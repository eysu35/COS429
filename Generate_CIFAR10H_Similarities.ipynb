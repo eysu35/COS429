{
 "cells": [
  {
   "cell_type": "code",
   "execution_count": null,
   "id": "7d313dfe",
   "metadata": {},
   "outputs": [],
   "source": [
    "import scipy\n",
    "import numpy as np\n",
    "from matplotlib import pyplot as plt"
   ]
  },
  {
   "cell_type": "markdown",
   "id": "13b5293c",
   "metadata": {},
   "source": [
    "# Pairwise similarities from CIFAR10H data"
   ]
  },
  {
   "cell_type": "code",
   "execution_count": null,
   "id": "47f4ea13",
   "metadata": {},
   "outputs": [],
   "source": [
    "############################################\n",
    "## Get pairwise similarity using CIFAR10H ##\n",
    "############################################\n",
    "soft = np.load('/scratch/gpfs/eysu/src_data/cifar-10h/data/cifar10h-probs.npy')\n",
    "\n",
    "pairwise_sims = np.zeros((soft.shape[0], soft.shape[0]))\n",
    "\n",
    "# find cosine similarity between soft vectors of every pair of test images\n",
    "for i in range(soft.shape[0]):\n",
    "    A = soft[i]\n",
    "    for j in range(soft.shape[0]):\n",
    "        B = soft[j]\n",
    "        pairwise_sims[i, j] = np.dot(A,B)/(np.linalg.norm(A)*np.linalg.norm(B))\n",
    "        \n",
    "    # track progress\n",
    "    if i % 500 == 0:\n",
    "        print(i)\n",
    "        \n",
    "# export \n",
    "np.save('/scratch/gpfs/eysu/src_data/cifar-10h/data/pairwise_sims.npy', pairwise_sims)"
   ]
  },
  {
   "cell_type": "code",
   "execution_count": null,
   "id": "41c8c2ef",
   "metadata": {},
   "outputs": [],
   "source": [
    "#####################################\n",
    "## Plot Pairwise Similarity Matrix ##\n",
    "#####################################\n",
    "plt.imshow(pairwise_sims, cmap='hot', interpolation='nearest')\n",
    "plt.show()"
   ]
  },
  {
   "cell_type": "code",
   "execution_count": null,
   "id": "af1572ca",
   "metadata": {},
   "outputs": [],
   "source": []
  },
  {
   "cell_type": "markdown",
   "id": "6df17931",
   "metadata": {},
   "source": [
    "# Pairwise similarities from THINGS triplet data"
   ]
  },
  {
   "cell_type": "code",
   "execution_count": null,
   "id": "0674f0c6",
   "metadata": {},
   "outputs": [],
   "source": []
  },
  {
   "cell_type": "code",
   "execution_count": null,
   "id": "e3371145",
   "metadata": {},
   "outputs": [],
   "source": [
    "# LOAD IN TRIPLET DATA\n",
    "\n",
    "test10 = np.loadtxt('/scratch/gpfs/eysu/SoftCL/THINGS/data1854_baseline_test10.txt')\n",
    "train90 = np.loadtxt('/scratch/gpfs/eysu/SoftCL/THINGS/data1854_baseline_train90.txt')\n",
    "triplets_repeat = np.loadtxt('/scratch/gpfs/eysu/SoftCL/THINGS/data1854_triplets_repeat.txt')\n",
    "\n",
    "print(test10.shape)\n",
    "print(train90.shape)\n",
    "print(triplets_repeat.shape)"
   ]
  },
  {
   "cell_type": "code",
   "execution_count": null,
   "id": "31410faf",
   "metadata": {},
   "outputs": [],
   "source": [
    "# Something to do with reindexing\n",
    "sortind = scipy.io.loadmat('/scratch/gpfs/eysu/SoftCL/THINGS/sortind.mat')\n",
    "print(sortind.keys())\n",
    "indices = sortind['sortind']\n",
    " \n",
    "for i_obj in range(len(indices)):\n",
    "    \n",
    "#     triplet_testdata49(triplet_testdata49==sortind(i_obj)) = 10000+i_obj\n",
    "\n",
    "# end\n",
    "\n",
    "# triplet_testdata49 = triplet_testdata49-10000;"
   ]
  },
  {
   "cell_type": "code",
   "execution_count": null,
   "id": "72b95a34",
   "metadata": {},
   "outputs": [],
   "source": [
    "\n",
    "\n"
   ]
  },
  {
   "cell_type": "code",
   "execution_count": null,
   "id": "4a5fd88a",
   "metadata": {},
   "outputs": [],
   "source": []
  }
 ],
 "metadata": {
  "kernelspec": {
   "display_name": "tf2-gpu [~/.conda/envs/tf2-gpu/]",
   "language": "python",
   "name": "conda_tf2-gpu"
  },
  "language_info": {
   "codemirror_mode": {
    "name": "ipython",
    "version": 3
   },
   "file_extension": ".py",
   "mimetype": "text/x-python",
   "name": "python",
   "nbconvert_exporter": "python",
   "pygments_lexer": "ipython3",
   "version": "3.10.6"
  }
 },
 "nbformat": 4,
 "nbformat_minor": 5
}
